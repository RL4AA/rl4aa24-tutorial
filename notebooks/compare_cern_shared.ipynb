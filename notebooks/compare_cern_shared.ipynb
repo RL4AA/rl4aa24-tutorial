{
 "cells": [
  {
   "cell_type": "code",
   "execution_count": 1,
   "metadata": {},
   "outputs": [],
   "source": [
    "import sys\n",
    "\n",
    "sys.path.append(\"../\")"
   ]
  },
  {
   "cell_type": "code",
   "execution_count": 2,
   "metadata": {},
   "outputs": [],
   "source": [
    "import cheetah\n",
    "import matplotlib.pyplot as plt\n",
    "import numpy as np\n",
    "from gymnasium.wrappers import RescaleAction\n",
    "from stable_baselines3.common.env_checker import check_env\n",
    "\n",
    "from src.environments.awake_e_steering import AwakeESteering\n",
    "from compare.cern_shared.environment import e_trajectory_simENV"
   ]
  },
  {
   "cell_type": "code",
   "execution_count": 3,
   "metadata": {},
   "outputs": [
    {
     "name": "stderr",
     "output_type": "stream",
     "text": [
      "/Users/jankaiser/Documents/DESY/rl4aa24-tutorial/notebooks/../compare/cern_shared/utils/twissReader.py:308: UserWarning: MISSING FIELD PX IN TWISS INPUT ../src/environments/electron_tt43.out\n",
      "  warnings.warn(\n",
      "/Users/jankaiser/Documents/DESY/rl4aa24-tutorial/notebooks/../compare/cern_shared/utils/twissReader.py:331: UserWarning: MISSING FIELD PY IN TWISS INPUT../src/environments/electron_tt43.out\n",
      "  warnings.warn(\n"
     ]
    }
   ],
   "source": [
    "old_env = e_trajectory_simENV()\n",
    "new_env = AwakeESteering()\n",
    "wrapped_new_env = RescaleAction(new_env, -1, 1)"
   ]
  },
  {
   "cell_type": "code",
   "execution_count": 4,
   "metadata": {},
   "outputs": [
    {
     "ename": "AssertionError",
     "evalue": "`reset()` must return a tuple (obs, info)",
     "output_type": "error",
     "traceback": [
      "\u001b[0;31m---------------------------------------------------------------------------\u001b[0m",
      "\u001b[0;31mAssertionError\u001b[0m                            Traceback (most recent call last)",
      "\u001b[1;32m/Users/jankaiser/Documents/DESY/rl4aa24-tutorial/notebooks/compare_cern_shared.ipynb Cell 4\u001b[0m line \u001b[0;36m1\n\u001b[0;32m----> <a href='vscode-notebook-cell:/Users/jankaiser/Documents/DESY/rl4aa24-tutorial/notebooks/compare_cern_shared.ipynb#W3sZmlsZQ%3D%3D?line=0'>1</a>\u001b[0m check_env(old_env)\n",
      "File \u001b[0;32m/opt/homebrew/Caskroom/miniforge/base/envs/rl4aa24-tutorial/lib/python3.9/site-packages/stable_baselines3/common/env_checker.py:461\u001b[0m, in \u001b[0;36mcheck_env\u001b[0;34m(env, warn, skip_render_check)\u001b[0m\n\u001b[1;32m    458\u001b[0m     \u001b[39mreturn\u001b[39;00m\n\u001b[1;32m    460\u001b[0m \u001b[39m# ============ Check the returned values ===============\u001b[39;00m\n\u001b[0;32m--> 461\u001b[0m _check_returned_values(env, observation_space, action_space)\n\u001b[1;32m    463\u001b[0m \u001b[39m# ==== Check the render method and the declared render modes ====\u001b[39;00m\n\u001b[1;32m    464\u001b[0m \u001b[39mif\u001b[39;00m \u001b[39mnot\u001b[39;00m skip_render_check:\n",
      "File \u001b[0;32m/opt/homebrew/Caskroom/miniforge/base/envs/rl4aa24-tutorial/lib/python3.9/site-packages/stable_baselines3/common/env_checker.py:264\u001b[0m, in \u001b[0;36m_check_returned_values\u001b[0;34m(env, observation_space, action_space)\u001b[0m\n\u001b[1;32m    262\u001b[0m \u001b[39m# because env inherits from gymnasium.Env, we assume that `reset()` and `step()` methods exists\u001b[39;00m\n\u001b[1;32m    263\u001b[0m reset_returns \u001b[39m=\u001b[39m env\u001b[39m.\u001b[39mreset()\n\u001b[0;32m--> 264\u001b[0m \u001b[39massert\u001b[39;00m \u001b[39misinstance\u001b[39m(reset_returns, \u001b[39mtuple\u001b[39m), \u001b[39m\"\u001b[39m\u001b[39m`reset()` must return a tuple (obs, info)\u001b[39m\u001b[39m\"\u001b[39m\n\u001b[1;32m    265\u001b[0m \u001b[39massert\u001b[39;00m \u001b[39mlen\u001b[39m(reset_returns) \u001b[39m==\u001b[39m \u001b[39m2\u001b[39m, \u001b[39mf\u001b[39m\u001b[39m\"\u001b[39m\u001b[39m`reset()` must return a tuple of size 2 (obs, info), not \u001b[39m\u001b[39m{\u001b[39;00m\u001b[39mlen\u001b[39m(reset_returns)\u001b[39m}\u001b[39;00m\u001b[39m\"\u001b[39m\n\u001b[1;32m    266\u001b[0m obs, info \u001b[39m=\u001b[39m reset_returns\n",
      "\u001b[0;31mAssertionError\u001b[0m: `reset()` must return a tuple (obs, info)"
     ]
    }
   ],
   "source": [
    "check_env(old_env)"
   ]
  },
  {
   "cell_type": "code",
   "execution_count": 5,
   "metadata": {},
   "outputs": [],
   "source": [
    "check_env(wrapped_new_env)"
   ]
  },
  {
   "cell_type": "code",
   "execution_count": null,
   "metadata": {},
   "outputs": [],
   "source": []
  }
 ],
 "metadata": {
  "kernelspec": {
   "display_name": "rl4aa24-tutorial",
   "language": "python",
   "name": "python3"
  },
  "language_info": {
   "codemirror_mode": {
    "name": "ipython",
    "version": 3
   },
   "file_extension": ".py",
   "mimetype": "text/x-python",
   "name": "python",
   "nbconvert_exporter": "python",
   "pygments_lexer": "ipython3",
   "version": "3.9.18"
  }
 },
 "nbformat": 4,
 "nbformat_minor": 2
}
