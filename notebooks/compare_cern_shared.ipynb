{
 "cells": [
  {
   "cell_type": "code",
   "execution_count": 1,
   "metadata": {},
   "outputs": [],
   "source": [
    "import sys\n",
    "\n",
    "sys.path.append(\"../\")"
   ]
  },
  {
   "cell_type": "code",
   "execution_count": 2,
   "metadata": {},
   "outputs": [],
   "source": [
    "import cheetah\n",
    "import matplotlib.pyplot as plt\n",
    "import numpy as np\n",
    "from gymnasium.wrappers import RescaleAction\n",
    "from stable_baselines3.common.env_checker import check_env\n",
    "\n",
    "from src.environments.awake_e_steering import AwakeESteering\n",
    "from compare.cern_shared.environment import e_trajectory_simENV"
   ]
  },
  {
   "cell_type": "code",
   "execution_count": 3,
   "metadata": {},
   "outputs": [
    {
     "name": "stderr",
     "output_type": "stream",
     "text": [
      "/Users/jankaiser/Documents/DESY/rl4aa24-tutorial/notebooks/../compare/cern_shared/utils/twissReader.py:308: UserWarning: MISSING FIELD PX IN TWISS INPUT ../src/environments/electron_tt43.out\n",
      "  warnings.warn(\n",
      "/Users/jankaiser/Documents/DESY/rl4aa24-tutorial/notebooks/../compare/cern_shared/utils/twissReader.py:331: UserWarning: MISSING FIELD PY IN TWISS INPUT../src/environments/electron_tt43.out\n",
      "  warnings.warn(\n"
     ]
    }
   ],
   "source": [
    "old_env = e_trajectory_simENV()\n",
    "new_env = AwakeESteering()\n",
    "wrapped_new_env = RescaleAction(new_env, -1, 1)"
   ]
  },
  {
   "cell_type": "code",
   "execution_count": 4,
   "metadata": {},
   "outputs": [],
   "source": [
    "check_env(old_env)"
   ]
  },
  {
   "cell_type": "code",
   "execution_count": 5,
   "metadata": {},
   "outputs": [],
   "source": [
    "check_env(wrapped_new_env)"
   ]
  },
  {
   "cell_type": "code",
   "execution_count": 7,
   "metadata": {},
   "outputs": [
    {
     "data": {
      "text/plain": [
       "(array([-0.01408744, -0.01990961, -0.05529934, -0.0971205 , -0.17207842,\n",
       "         0.22096458,  0.4636218 ,  0.3623196 ,  0.23874807,  0.18251742],\n",
       "       dtype=float32),\n",
       " {})"
      ]
     },
     "execution_count": 7,
     "metadata": {},
     "output_type": "execute_result"
    }
   ],
   "source": [
    "old_env.reset()"
   ]
  },
  {
   "cell_type": "code",
   "execution_count": 8,
   "metadata": {},
   "outputs": [
    {
     "data": {
      "text/plain": [
       "(array([ 3.5436096e-05, -4.8860282e-05,  1.9524482e-04,  6.3794572e-04,\n",
       "         1.4513392e-03, -2.0595023e-03, -4.5622676e-03, -3.6462608e-03,\n",
       "        -2.4693348e-03, -1.9142326e-03], dtype=float32),\n",
       " {'backend_info': {'incoming_beam': array([1.0000000e+08, 0.0000000e+00, 0.0000000e+00, 0.0000000e+00,\n",
       "          0.0000000e+00, 9.8234415e-04, 1.9646883e-04, 9.8234415e-04,\n",
       "          1.9646883e-04, 1.0000000e-06, 1.0000000e-06], dtype=float32),\n",
       "   'quadrupole_settings': array([ -5.085799,   9.504011,  -8.240125, -31.725054,  19.703522,\n",
       "          -31.725054,  -7.92377 ,  26.87176 ,  -1.07907 ,  16.7789  ,\n",
       "          -14.029   ], dtype=float32)}})"
      ]
     },
     "execution_count": 8,
     "metadata": {},
     "output_type": "execute_result"
    }
   ],
   "source": [
    "new_env.reset()"
   ]
  },
  {
   "cell_type": "code",
   "execution_count": null,
   "metadata": {},
   "outputs": [],
   "source": []
  }
 ],
 "metadata": {
  "kernelspec": {
   "display_name": "rl4aa24-tutorial",
   "language": "python",
   "name": "python3"
  },
  "language_info": {
   "codemirror_mode": {
    "name": "ipython",
    "version": 3
   },
   "file_extension": ".py",
   "mimetype": "text/x-python",
   "name": "python",
   "nbconvert_exporter": "python",
   "pygments_lexer": "ipython3",
   "version": "3.9.18"
  }
 },
 "nbformat": 4,
 "nbformat_minor": 2
}
