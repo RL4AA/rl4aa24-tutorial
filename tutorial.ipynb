{
 "cells": [
  {
   "cell_type": "markdown",
   "metadata": {
    "slideshow": {
     "slide_type": "slide"
    }
   },
   "source": [
    "<h1 style=\"text-align: center; vertical-align: middle;\">Meta Reinforcement Learning for steering tasks</h1>\n",
    "<h2 style=\"text-align: center; vertical-align: middle;\">Use case: AWAKE beamline at CERN</h2>\n",
    "\n",
    "<h3 style=\"text-align: center; vertical-align: middle;\">Implementation example for the RL4AA'24 workshop</h3>\n",
    "\n",
    "<p style=\"text-align: center\">Simon Hirländer, Jan Kaiser, Chenran Xu, Andrea Santamaria Garcia</p>"
   ]
  },
  {
   "cell_type": "markdown",
   "metadata": {
    "slideshow": {
     "slide_type": "slide"
    }
   },
   "source": [
    "<h2 style=\"color: #b51f2a\">Today!</h2>\n",
    "In this tutorial notebook we will implement all the basic components of a <b>Meta Reinforcement Learning (MLRL) algorithm</b> to solve steering task in a linear accelerator.\n",
    "\n",
    "- Getting started\n",
    "- Part I: Quick introduction\n",
    "- Part II: Running PPO on our problem\n",
    "- Part III: Running MAML on our problem\n",
    "- Part IV: Model-based RL"
   ]
  },
  {
   "cell_type": "markdown",
   "metadata": {
    "slideshow": {
     "slide_type": "slide"
    }
   },
   "source": [
    "<h2 style=\"color: #b51f2a\">Getting started</h2>\n",
    "\n",
    "- The code is tested on Python 3.9 and 3.10.\n",
    "- You should have conda installed.\n",
    "- Start by cloning locally the repository of the tutorial:\n",
    "\n",
    "```bash\n",
    "git clone https://github.com/RL4AA/rl4aa24-tutorial.git\n",
    "```"
   ]
  },
  {
   "cell_type": "markdown",
   "metadata": {
    "slideshow": {
     "slide_type": "slide"
    }
   },
   "source": [
    "<h2 style=\"color: #b51f2a\">Getting started</h2>\n",
    "\n",
    "### Using Conda\n",
    "\n",
    "```bash\n",
    "conda env create -f environment.yml\n",
    "```\n",
    "\n",
    "This should create an environment named `rl-tutorial` and install the necessary packages inside.\n",
    "\n",
    "Afterwards, activate the environment using\n",
    "\n",
    "```bash\n",
    "conda activate rl-tutorial\n",
    "```\n"
   ]
  },
  {
   "cell_type": "markdown",
   "metadata": {
    "slideshow": {
     "slide_type": "slide"
    }
   },
   "source": [
    "<h2 style=\"color: #b51f2a\">Getting started</h2>\n",
    "\n",
    "### Using venv\n",
    "\n",
    "_If you don't have conda installed:_\n",
    "\n",
    "Alternatively, you can create the virtual env with\n",
    "\n",
    "```bash\n",
    "python venv -n rl-tutlrial\n",
    "```\n",
    "\n",
    "and activate the env with `$ source <venv>/bin/activate` (bash) or `C:> <venv>/Scripts/activate.bat` (Windows)\n",
    "\n",
    "Then, install the packages with `pip` within the activated environment\n",
    "\n",
    "```bash\n",
    "python -m pip3 install -r requirements.txt\n",
    "```\n",
    "\n",
    "Afterwards, you should be able to run the provided scripts.\n"
   ]
  },
  {
   "cell_type": "markdown",
   "metadata": {
    "slideshow": {
     "slide_type": "slide"
    }
   },
   "source": [
    "<div style=\"text-align: center; width:100%;\">\n",
    "    <h2>Part I: Quick introduction</h2>\n",
    "</div>"
   ]
  },
  {
   "cell_type": "markdown",
   "metadata": {
    "slideshow": {
     "slide_type": "slide"
    }
   },
   "source": [
    "<h2 style=\"color: #b51f2a\"> AWAKE (The Advanced Proton Driven Plasma Wakefield Acceleration Experiment)</h2>\n",
    "\n",
    "AWAKE is an accelerator R&D project based at CERN. It investigates the use of plasma wakefields driven by a proton bunch to accelerate charged particles.\n",
    "- The proton beam from the SPS is used to drive wakefields in a plasma cell.\n",
    "- The wakefields in the plasma accelerate electrons coming from another beamline, like a surfer is accelerated by ocean waves.\n",
    "- Plasmas can support extremely strong electric fields, with accelerating gradients of GV/m over meter-scale distances, which can reduce the size of future accelerators."
   ]
  },
  {
   "cell_type": "markdown",
   "metadata": {
    "slideshow": {
     "slide_type": "slide"
    }
   },
   "source": [
    "<h2 style=\"color: #b51f2a\"> AWAKE (The Advanced Proton Driven Plasma Wakefield Acceleration Experiment)</h2>\n",
    "<p>\n",
    "\n",
    "</p>\n",
    "\n",
    "<img src=\"img/awake.png\" style=\"width:40%; margin:auto;\"/>\n",
    "\n",
    "- **Momentum**: 10-20 MeV/c\n",
    "- **Electrons per bunch**: 1.2e9\n",
    "- **Bunch length**: 4 ps\n",
    "- **Pulse repetition rate**: 10 Hz\n",
    "\n",
    "<h3 style=\"color: #b51f2a\"> Reference</h3>\n",
    "<a href=\"https://www.nature.com/articles/s41586-018-0485-4\">\"Acceleration of electrons in the plasma wakefield of a proton bunch\" - Nature volume 561, pages363–367 (2018)</a>"
   ]
  },
  {
   "cell_type": "markdown",
   "metadata": {
    "slideshow": {
     "slide_type": "slide"
    }
   },
   "source": [
    "<h2 style=\"color: #b51f2a\">The accelerator problem we want to solve</h2>\n",
    "\n",
    "The goal is to minimize the distance $\\Delta x_i$ of an initial beam trajectory to a target trajectory at different points $i$ (here marked as \"position\") in the accelerator in the least amount of steps.\n",
    "\n",
    "\n",
    "<img src=\"img/steering_problem.png\" style=\"width:70%; margin:auto;\"/>\n",
    "\n",
    "<h3 style=\"color: #b51f2a\">Reference</h3>\n",
    "<a href=\"https://inspirehep.net/files/f30ed3557a9acef940574f30c68c1ee2\">\"Ultra fast reinforcement learning demonstrated at CERN AWAKE\" - IPAC (2023)</a>"
   ]
  },
  {
   "cell_type": "markdown",
   "metadata": {
    "slideshow": {
     "slide_type": "slide"
    }
   },
   "source": [
    "<h2 style=\"color: #b51f2a\">Formulating the RL problem</h2>\n",
    "\n",
    "The problem is formulated in an episodic manner.\n",
    "\n",
    "<h3 style=\"color: #b51f2a\">Actions</h3>\n",
    "The actions are the strenghts of 10 corrector magnets that can steer the beam.\n",
    "They are normalized to [-1, 1], corresponding to $\\pm$ 100 mm.\n",
    "\n",
    "<h3 style=\"color: #b51f2a\">States/Observations</h3>\n",
    "The observations are the readings of ten beam position monitors (BPMs), which read the position of the beam at a particular point in the beamline.\n",
    "\n",
    "<h3 style=\"color: #b51f2a\">Reward</h3>\n",
    "The reward is the negative RMS value of the distance to the target trajectory. "
   ]
  },
  {
   "cell_type": "markdown",
   "metadata": {
    "slideshow": {
     "slide_type": "slide"
    }
   },
   "source": [
    "<h2 style=\"color: #b51f2a\">Formulating the RL problem</h2>\n",
    "\n",
    "<h3 style=\"color: #b51f2a\">Convergence condition</h3>\n",
    "If a threshold RMS (-10 mm in our case, 0.1 in normalized scale) is surpassed,\n",
    "the episode ends successfully. \n",
    "\n",
    "<h3 style=\"color: #b51f2a\">Termination (safety) condition</h3>\n",
    "If the beam hits the wall (any state ≤ -1 or ≥ 1 in normalized scale, 10 cm), the episode is terminated unsuccessfully. \n",
    "\n",
    "<h3 style=\"color: #b51f2a\">Episode initialization</h3>\n",
    "All episodes are initialised such that the RMS of the distance to the target trajectory is large. This ensures that the task is not too easy and relatively close to the boundaries to probe the safety settings.\n",
    "\n",
    "<h3 style=\"color: #b51f2a\">Agents</h3>\n",
    "In this tutorial we will use:\n",
    "\n",
    "- PPO (Proximal Policy Optimization)\n",
    "- MAML (Model Agnostic Meta Learning)"
   ]
  },
  {
   "cell_type": "markdown",
   "metadata": {
    "slideshow": {
     "slide_type": "slide"
    }
   },
   "source": [
    "<h2 style=\"color: #b51f2a\">Formulating the RL problem</h2>\n",
    "\n",
    "<h3 style=\"color: #b51f2a\">Environments/Tasks</h3>\n",
    "\n",
    "- <b>In this tutorial we will use a variety of environments or tasks.</b>\n",
    "    - Fixed tasks for evaluation.\n",
    "    - Randomly sampled tasks for meta-training.\n",
    "- They are defined by the particular strength of the quadrupole magnets of the AWAKE beamline. This means that different magnet strength combinations will give place to different environments/tasks.\n",
    "    - A set of fixed quadrupole strengths is called \"optics\".\n",
    "    - We generate them from the original optics, adding a random scaling factor.\n",
    "\n",
    "Optics might be different from what we expect in real life."
   ]
  },
  {
   "cell_type": "markdown",
   "metadata": {
    "slideshow": {
     "slide_type": "slide"
    }
   },
   "source": [
    "<h2 style=\"color: #b51f2a\">Formulating the RL problem</h2>\n",
    "\n",
    "<h3 style=\"color: #b51f2a\">Environments/Tasks</h3>\n",
    "\n",
    "The environment dynamics are determined by the <b>response matrix</b>, which in linear systems can encapsulate the dynamics of the problem.\n",
    "\n",
    "More specifically: given the response matrix is $\\mathbf R$, the change in actions $\\Delta a$ (corrector magnet strength), and the change in states $\\Delta s$ (BPM readings), we have:\n",
    "\n",
    "\\begin{align}\n",
    "    \\Delta s &= \\mathbf{R}\\Delta a\\\\\n",
    "\\end{align}\n",
    "\n",
    "<br>\n",
    "\n",
    "<img src=\"img/response_matrix_tasks.png\" style=\"width:60%; margin:auto;\"/>"
   ]
  },
  {
   "cell_type": "markdown",
   "metadata": {
    "slideshow": {
     "slide_type": "slide"
    }
   },
   "source": [
    "<h2 style=\"color: #b51f2a\">Defining a benchmark policy</h2>\n",
    "\n",
    "During this tutorial we want to compare the trained policies we obtain with different methods to a benchmark policy.\n",
    "\n",
    "For this problem, our \"benchmark policy\" is just the inverse of the environment's <b>response matrix</b>.\n",
    "\n",
    "More specifically, we have:\n",
    "\\begin{align}\n",
    "    \\Delta a &= \\mathbf{R}^{-1}\\Delta s\n",
    "\\end{align}\n",
    "\n",
    "$\\implies$ The resolution of the problem can be theoretically achieved by applying the inverse response matrix, $\\mathbf{R}^{-1}$, directly to the system."
   ]
  },
  {
   "cell_type": "markdown",
   "metadata": {
    "slideshow": {
     "slide_type": "slide"
    }
   },
   "source": [
    "<h2 style=\"color: #b51f2a\">Cheatsheet on RL training &#129488</h2>\n",
    "Consult at will during the tutorial if you are not familiar with training RL agents!\n",
    "\n",
    "<h3 style=\"color: #b51f2a\">Training stage</h3>\n",
    "During the training phase experience is gathered in a buffer that is used to update the weights of the policy through gradient descent.\n",
    "The samples in the buffer can be passed to the gradient descent algorithm in batches, and gradient descent is performed a number of epochs. This is how the agent \"learns\".\n",
    "\n",
    "<img src=\"img/rl_training.png\" style=\"width:40%; margin:auto;\"/>\n",
    "\n",
    "\n",
    "<h3 style=\"color: #b51f2a\">Evaluation/validation stage</h3>\n",
    "The policy is fixed (no weight updates) and only forwards passes are performed."
   ]
  },
  {
   "cell_type": "markdown",
   "metadata": {
    "slideshow": {
     "slide_type": "slide"
    }
   },
   "source": [
    "<h2 style=\"color: #b51f2a\">So how do we compare policies in the evaluation stage? &#129488</h2>\n",
    "\n",
    "- At the beginning of each episode we reset the environment to suboptimal corrector strengths in a random way.\n",
    "- For each step within the episode we use the inverse of the **response matrix** (benchmark) or the **trained policy** to compute the next action (forward passes) until the episode ends (convergence or termination).\n",
    "- This will be performed for different evaluation tasks, just to assess how the policy performs in different lattices.\n",
    "\n",
    "Side note:\n",
    "- The benchmark policy will not immediately find the settings for the target trajectory, because the actions are scaled down for safety reasons.\n",
    "- We can then compare metrics of both policies.\n"
   ]
  },
  {
   "cell_type": "markdown",
   "metadata": {
    "slideshow": {
     "slide_type": "slide"
    }
   },
   "source": [
    "<h2 style=\"color: #b51f2a\">So how do we compare policies in the evaluation stage? &#129488</h2>\n",
    "\n",
    "- There are 5 fixed evaluation tasks.\n",
    "- We can choose to evaluate our policy to one of them, several, or all of them.\n",
    "\n",
    "<img src=\"img/task_overview_evaluation_tasks.png\" style=\"width:60%; margin:auto;\"/>"
   ]
  },
  {
   "cell_type": "markdown",
   "metadata": {
    "slideshow": {
     "slide_type": "slide"
    }
   },
   "source": [
    "<div style=\"text-align: center; width:100%;\">\n",
    "    <h2>Part II: Running PPO on our problem</h2>\n",
    "</div>"
   ]
  },
  {
   "cell_type": "markdown",
   "metadata": {
    "slideshow": {
     "slide_type": "slide"
    }
   },
   "source": [
    "<h2 style=\"color: #b51f2a\">Files relevant to the PPO agent</h2>\n",
    "\n",
    "- `ppo.py`: runs the training and evaluation stages sequentially.\n",
    "- `configs/maml/verification_tasks.pkl`: contains 5 tasks (environments/optics) upon which the policies will be evaluated."
   ]
  },
  {
   "cell_type": "markdown",
   "metadata": {
    "slideshow": {
     "slide_type": "slide"
    }
   },
   "source": [
    "<h2 style=\"color: #b51f2a\">PPO agent settings &#129488</h2>\n",
    "\n",
    "- `n_env` = 1\n",
    "- `n_steps` = 2048 (default params)\n",
    "- `buffer_size` = n_steps x n_env = 2048\n",
    "- `n_epochs` = 10 (default params)\n",
    "- We backpropagate 10 times everytime we fill the buffer\n",
    "    - backprops = `int((total_timesteps / buffer_size)) * n_epochs`"
   ]
  },
  {
   "cell_type": "markdown",
   "metadata": {
    "slideshow": {
     "slide_type": "slide"
    }
   },
   "source": [
    "<h3 style=\"color:#038aa1;\">Questions &#128187</h3>\n",
    "\n",
    "<p style=\"color:#038aa1;\">Go to <code>ppo.py</code> and change the <code>total_timesteps</code> to 100. This can be done by providing the command line argument <code>--steps [num_steps]</code> Run it in the terminal with <code>python ppo.py --steps 100</code></p>\n",
    "\n",
    "<p style=\"color:#038aa1;\">$\\implies$ Considering the PPO agent settings: will we fill the buffer? what do you expect that happens?</p>\n",
    "<p style=\"color:#038aa1;\">$\\implies$ What is the difference in episode length between the benchmark policy and PPO? </p> \n",
    "<p style=\"color:#038aa1;\">$\\implies$ Look at the cumulative episode length, which policy takes longer?</p>\n",
    "<p style=\"color:#038aa1;\">$\\implies$ Compare both cumulative rewards, which reward is higher and why?</p>\n",
    "<p style=\"color:#038aa1;\">$\\implies$ Look at the final reward (-10*RMS(BPM readings)) and consider the convergence (in red) and termination conditions mentioned before. What can you say about how the episode was ended?</p>"
   ]
  },
  {
   "cell_type": "markdown",
   "metadata": {
    "slideshow": {
     "slide_type": "slide"
    }
   },
   "source": [
    "<h3 style=\"color:#038aa1;\">If you didn't manage to run here is the plot</h3>\n",
    "<br>\n",
    "\n",
    "<img src=\"img/ppo_untrained.png\" style=\"width:100%; margin:auto;\"/>"
   ]
  },
  {
   "cell_type": "markdown",
   "metadata": {
    "slideshow": {
     "slide_type": "slide"
    }
   },
   "source": [
    "<h3 style=\"color:#038aa1;\">Questions &#128187</h3>\n",
    "\n",
    "<p style=\"color:#038aa1;\">Set <code>total_timesteps</code> to 50,000 this time. Run it in the terminal with <code>python ppo.py --steps 50000</code></p>\n",
    "\n",
    "<p style=\"color:#038aa1;\">$\\implies$ What are the main differences between the untrained and trained PPO policies?</p>"
   ]
  },
  {
   "cell_type": "markdown",
   "metadata": {
    "slideshow": {
     "slide_type": "slide"
    }
   },
   "source": [
    "<h3 style=\"color:#038aa1;\">Questions</h3>\n",
    "\n",
    "<br>\n",
    "\n",
    "<img src=\"img/ppo.png\" style=\"width:100%; margin:auto;\"/>"
   ]
  },
  {
   "cell_type": "markdown",
   "metadata": {
    "slideshow": {
     "slide_type": "slide"
    }
   },
   "source": [
    "<div style=\"text-align: center; width:100%;\">\n",
    "    <h2>Part III: Running MAML on our problem</h2>\n",
    "</div>"
   ]
  },
  {
   "cell_type": "markdown",
   "metadata": {
    "slideshow": {
     "slide_type": "slide"
    }
   },
   "source": [
    "<h2 style=\"color: #b51f2a\">Meta RL</h2>\n",
    "\n",
    "Meta-learning occurs when one learning system progressively adjusts the operation of a second learning system, such that the latter operates with increasing speed and efficiency \n",
    "\n",
    "This scenario is often described in terms of two ‘loops’ of learning, an ‘outer loop’ that uses its experiences over many task contexts to gradually adjust parameters that govern the operation of an ‘inner loop’, so that the inner loop can adjust rapidly to new tasks (see Figure 1). Meta-RL refers to the case where both the inner and outer loop implement RL algorithms, learning from reward outcomes and optimizing toward behaviors that yield maximal reward.\n",
    "\n",
    "There are MANY flavors of meta RL\n",
    "\n",
    "<img src=\"img/meta_loop.png\" style=\"width:60%; margin:auto;\"/>\n",
    "<a href=\"https://www.sciencedirect.com/science/article/pii/S1364661319300610?via%3Dihub\">\"Reinforcement Learning, Fast and Slow\" (2019)</a>\n",
    "\n"
   ]
  },
  {
   "cell_type": "markdown",
   "metadata": {
    "slideshow": {
     "slide_type": "slide"
    }
   },
   "source": [
    "<h2 style=\"color: #b51f2a\">Optimization-based meta RL in this tutorial</h2>\n",
    "\n",
    "In this tutorial we will adapt the parameters of our model (policy) through gradient descent with the MAML algorithm.\n",
    "\n",
    "- We have a <b>meta policy</b> $\\phi(\\theta)$, where $\\theta$ are the weights of a neural network. The meta policy starts untrained $\\phi_0$.\n",
    "\n",
    "<h3 style=\"color: #b51f2a\">Step 1: outer loop</h3>\n",
    "We randomly sample a number of tasks $i$ (in our case $i\\in \\{1,\\dots,8\\}$ different lattices, called <code>meta-batch-size</code> in the code) from a task distribution, each one with its particular initial task policy $\\varphi_{0}^i=\\phi_0$.\n",
    "\n",
    "<h3 style=\"color: #b51f2a\">Step 2: inner loop</h3>\n",
    "For each task, we gather experience for several episodes, store the experience, and use it to perform gradient descent and update the weights of each task policy $\\varphi_{0}^i \\rightarrow \\varphi_{k}^i$ for $k$ gradient descent steps."
   ]
  },
  {
   "cell_type": "markdown",
   "metadata": {
    "slideshow": {
     "slide_type": "slide"
    }
   },
   "source": [
    "<h2 style=\"color: #b51f2a\">Optimization-based meta RL in this tutorial</h2>\n",
    "\n",
    "<h3 style=\"color: #b51f2a\">Step 3: outer loop</h3>\n",
    "We sum the losses calculated for each task policy and perform gradient descent on the meta policy\n",
    "$\\phi_0 \\rightarrow \\phi_1$\n",
    "\n",
    "<img src=\"img/meta_gradient.png\" style=\"width:40%; margin:auto;\"/>\n",
    "\n",
    "$\\beta$ is the meta learning rate, $\\alpha$ is the fast learning rate (for inner loop gradient updates)\n",
    "\n",
    "<img src=\"img/maml.png\" style=\"width:40%; margin:auto;\"/>\n"
   ]
  },
  {
   "cell_type": "markdown",
   "metadata": {
    "slideshow": {
     "slide_type": "slide"
    }
   },
   "source": [
    "<h2 style=\"color: #b51f2a\">Important files</h2>\n",
    "\n",
    "- `train.py`: performs the meta-training on AWAKE problem\n",
    "- `test.py`: performs the evaluation of the trained policy\n",
    "- `configs/`: stores the yaml files for training configurations"
   ]
  },
  {
   "cell_type": "markdown",
   "metadata": {
    "slideshow": {
     "slide_type": "slide"
    }
   },
   "source": [
    "<h2 style=\"color: #b51f2a\">Evaluation of random policy &#128187</h2>\n",
    "\n",
    "- We will look at the **inner loop** only.\n",
    "- We consider only 1 task for now (task 0), from 5 fixed evaluation tasks.\n",
    "- The policy $\\varphi_0^0$ starts as random and adapts for 500 steps (and show the progress every 50 steps).\n",
    "\n",
    "Run the following code to train the task policy $\\varphi_0^0$ for 500 steps:\n",
    "\n",
    "`python test.py --experiment-name tutorial --experiment-type adapt_from_scratch --num-batches=500 --plot-interval=50 --task-ids 0`\n",
    "\n",
    "Once it has run, you can look at the adaptation progress by running:\n",
    "\n",
    "`python read_out_train.py --experiment-name tutorial --experiment-type adapt_from_scratch`\n",
    "\n",
    "You can run now several tasks."
   ]
  },
  {
   "cell_type": "markdown",
   "metadata": {
    "slideshow": {
     "slide_type": "slide"
    }
   },
   "source": [
    "<h2 style=\"color: #b51f2a\">Evaluation of random policy</h2>\n",
    "\n",
    "- If the code didn't work for you, this is the plot you should get (see below).\n",
    "- We can see that it fails at the beginning, but it learns with time.\n",
    "\n",
    "<img src=\"img/random_policy.png\" style=\"width:60%; margin:auto;\"/>"
   ]
  },
  {
   "cell_type": "markdown",
   "metadata": {
    "slideshow": {
     "slide_type": "slide"
    }
   },
   "source": [
    "<h2 style=\"color: #b51f2a\">Meta training</h2>\n",
    "\n",
    "\n",
    "<h3 style=\"color: #b51f2a\">Training</h3>\n",
    "We will now train the meta policy $\\phi_0$ using randomly sampled tasks.\n",
    "\n",
    "You can run the meta-training via (but don't run it now!):\n",
    "\n",
    "```bash\n",
    "python train.py --experiment-name <give_a_meaningful_name>\n",
    "```\n",
    "\n",
    "Note: The meta-training takes about 30 mins for the current configuration. \n",
    "Therefore we have provided a pre-trained policy which can be used for evaluation later."
   ]
  },
  {
   "cell_type": "markdown",
   "metadata": {
    "slideshow": {
     "slide_type": "slide"
    }
   },
   "source": [
    "<h3 style=\"color: #b51f2a\">Evaluation of the trained meta-policy &#128187</h3>\n",
    "\n",
    "We will now use a pre-trained policy located in `awake/pretrained_policy.th` and evalulate it against a certain number of fixed tasks.\n",
    "\n",
    "`python test.py --experiment-name tutorial --experiment-type test_meta --use-meta-policy --policy awake/pretrained_policy.th --num-batches=500 --plot-interval=50 --task-ids 0 1 2 3 4`\n",
    "\n",
    "- use  `--task-ids 0 1 2 3 4` to run evaluation against all 5 tasks, or e.g. `--task-ids 0` to evaluate only for task 0.\n",
    "- here we set the flag `--use-meta-policy` so that it uses the pre-trained policy.\n",
    "\n",
    "Afterwards, you can look at the adaptation progress by running:\n",
    "\n",
    "`python read_out_train.py --experiment-name tutorial --experiment-type test_meta`"
   ]
  },
  {
   "cell_type": "markdown",
   "metadata": {
    "slideshow": {
     "slide_type": "slide"
    }
   },
   "source": [
    "<h3 style=\"color: #b51f2a\">Evaluation of the trained meta-policy</h3>\n",
    "<p style=\"color:#038aa1;\">$\\implies$ What difference can you see compared to the untrained policy?</p>\n",
    "\n",
    "<img src=\"img/random_policy.png\" style=\"float: left; width: 40%; margin-right: 1%; margin-bottom: 0.5em;\">\n",
    "<img src=\"img/trained_meta_policy.png\" style=\"float: left; width: 40%; margin-right: 1%; margin-bottom: 0.5em;\">"
   ]
  },
  {
   "cell_type": "markdown",
   "metadata": {
    "slideshow": {
     "slide_type": "slide"
    }
   },
   "source": [
    "<h3 style=\"color: #b51f2a\">We can observe that the meta policy can solve the problem for different tasks (i.e. lattices)!</h3>\n",
    "\n",
    "<br>\n",
    "\n",
    "<img src=\"img/meta_policy.png\" style=\"width:100%; margin:auto;\"/>"
   ]
  },
  {
   "cell_type": "markdown",
   "metadata": {
    "slideshow": {
     "slide_type": "slide"
    }
   },
   "source": [
    "<h3 style=\"color: #b51f2a\"> Overall, meta RL has a better performance from the start</h3>\n",
    "\n",
    "<img src=\"img/adaption_strategies.png\" style=\"width:100%; margin:auto;\"/>"
   ]
  },
  {
   "cell_type": "markdown",
   "metadata": {
    "slideshow": {
     "slide_type": "slide"
    }
   },
   "source": [
    "<h2 style=\"color: #b51f2a\">MAML logic &#129488</h2>\n",
    "\n",
    "This part is important if you want to have a deeper understanding of the MAML algorithm.\n",
    "\n",
    "- `maml_rl/metalearners/maml_trpo.py` implements the _TRPO_ algorithm for the outer-loop.\n",
    "- `maml_rl/policies/normal_mlp.py` implements a simple MLP policy for the RL agent.\n",
    "- `maml_rl/utils/reinforcement_learning.py` implements the _Reinforce_ algorithm for the inner-loop.\n",
    "- `maml_rl/samplers/` handles the sampling of the meta-trajectories of the environment using the multiprocessing package.\n",
    "- `maml_rl/baseline.py` A linear baseline for the advantage calculation in RL.\n",
    "- `maml_rl/episodes.py` A custom class to store the results and statistics of the episodes for meta-training.\n"
   ]
  },
  {
   "cell_type": "markdown",
   "metadata": {
    "slideshow": {
     "slide_type": "slide"
    }
   },
   "source": [
    "<h2 style=\"color: #b51f2a\">Further Resources</h2>\n",
    "\n",
    "### Getting started in RL\n",
    " - [OpenAI Spinning Up](https://spinningup.openai.com/en/latest/index.html) - Very understandable explainations on RL and the most popular algorithms acompanied by easy-to-read Python implementations.\n",
    " - [Reinforcement Learning with Stable Baselines 3](https://youtube.com/playlist?list=PLQVvvaa0QuDf0O2DWwLZBfJeYY-JOeZB1) - YouTube playlist giving a good introduction on RL using Stable Baselines3.\n",
    " - [Build a Doom AI Model with Python](https://youtu.be/eBCU-tqLGfQ) - Detailed 3h tutorial of applying RL using *DOOM* as an example.\n",
    " - [An introduction to Reinforcement Learning](https://youtu.be/JgvyzIkgxF0) - Brief introdution to RL.\n",
    " - [An introduction to Policy Gradient methods - Deep Reinforcement Learning](https://www.youtube.com/watch?v=5P7I-xPq8u8) - Brief introduction to PPO."
   ]
  },
  {
   "cell_type": "markdown",
   "metadata": {
    "slideshow": {
     "slide_type": "slide"
    }
   },
   "source": [
    "<h2 style=\"color: #b51f2a\">Further Resources</h2>\n",
    "\n",
    "### Papers\n",
    "\n",
    " - [Learning-based optimisation of particle accelerators under partial observability without real-world training](https://proceedings.mlr.press/v162/kaiser22a.html) - Tuning of electron beam properties on a diagnostic screen using RL.\n",
    " - [Sample-efficient reinforcement learning for CERN accelerator control](https://journals.aps.org/prab/abstract/10.1103/PhysRevAccelBeams.23.124801) - Beam trajectory steering using RL with a focus on sample-efficient training.\n",
    " - [Autonomous control of a particle accelerator using deep reinforcement learning](https://arxiv.org/abs/2010.08141) - Beam transport through a drift tube linac using RL.\n",
    " - [Basic reinforcement learning techniques to control the intensity of a seeded free-electron laser](https://www.mdpi.com/2079-9292/9/5/781/htm) - RL-based laser alignment and drift recovery.\n",
    " - [Real-time artificial intelligence for accelerator control: A study at the Fermilab Booster](https://journals.aps.org/prab/abstract/10.1103/PhysRevAccelBeams.24.104601) - Regulation of a gradient magnet power supply using RL and real-time implementation of the trained agent using field-programmable gate arrays (FPGAs).\n",
    " - [Magnetic control of tokamak plasmas through deep reinforcement learning](https://www.nature.com/articles/s41586-021-04301-9) - Landmark paper on RL for controling a real-world physical system (plasma in a tokamak fusion reactor)."
   ]
  },
  {
   "cell_type": "markdown",
   "metadata": {
    "slideshow": {
     "slide_type": "slide"
    }
   },
   "source": [
    "<h2 style=\"color: #b51f2a\">Further Resources</h2>\n",
    "\n",
    "### Literature\n",
    " \n",
    " - [Reinforcement Learning: An Introduction](http://incompleteideas.net/book/the-book.html) - Standard text book on RL.\n",
    "\n",
    "### Packages\n",
    " - [Gym](https://www.gymlibrary.ml) - Defacto standard for implementing custom environments. Also provides a library of RL tasks widely used for benchmarking.\n",
    " - [Stable Baslines3](https://github.com/DLR-RM/stable-baselines3) - Provides reliable, benchmarked and easy-to-use implementations of the most important RL algorithms.\n",
    " - [Ray RLlib](https://docs.ray.io/en/latest/rllib/index.html) - Part of the *Ray* Python package providing implementations of various RL algorithms with a focus on distributed training."
   ]
  }
 ],
 "metadata": {
  "celltoolbar": "Slideshow",
  "kernelspec": {
   "display_name": "Python 3 (ipykernel)",
   "language": "python",
   "name": "python3"
  },
  "language_info": {
   "codemirror_mode": {
    "name": "ipython",
    "version": 3
   },
   "file_extension": ".py",
   "mimetype": "text/x-python",
   "name": "python",
   "nbconvert_exporter": "python",
   "pygments_lexer": "ipython3",
   "version": "3.9.12"
  },
  "vscode": {
   "interpreter": {
    "hash": "916dbcbb3f70747c44a77c7bcd40155683ae19c65e1c03b4aa3499c5328201f1"
   }
  }
 },
 "nbformat": 4,
 "nbformat_minor": 4
}
